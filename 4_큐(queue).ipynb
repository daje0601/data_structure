{
  "nbformat": 4,
  "nbformat_minor": 0,
  "metadata": {
    "colab": {
      "name": "4. 큐(queue).ipynb",
      "provenance": [],
      "authorship_tag": "ABX9TyOWXk8BOnXJt7PI6LGDJAVP",
      "include_colab_link": true
    },
    "kernelspec": {
      "name": "python3",
      "display_name": "Python 3"
    },
    "language_info": {
      "name": "python"
    }
  },
  "cells": [
    {
      "cell_type": "markdown",
      "metadata": {
        "id": "view-in-github",
        "colab_type": "text"
      },
      "source": [
        "<a href=\"https://colab.research.google.com/github/daje0601/data_structure/blob/master/4_%ED%81%90(queue).ipynb\" target=\"_parent\"><img src=\"https://colab.research.google.com/assets/colab-badge.svg\" alt=\"Open In Colab\"/></a>"
      ]
    },
    {
      "cell_type": "markdown",
      "metadata": {
        "id": "HphAoqkyDozJ"
      },
      "source": [
        "### 2. 큐(Queue) 기능 \n",
        "\n",
        " -. 데이터간 순서 관계를 유지할 수 있어야한다. \n",
        "\n",
        " -. 맨 뒤 데이터를 삽입 할 수 있어야 한다. \n",
        "\n",
        " -. 맨 앞 데이터를 삭제 할 수 있어야 한다. \n",
        "\n",
        " -. 맨 앞 데이터에 접근 할 수 있어야 한다. "
      ]
    },
    {
      "cell_type": "markdown",
      "metadata": {
        "id": "E2AHtAX8E-qF"
      },
      "source": [
        "### 3. 예제코드"
      ]
    },
    {
      "cell_type": "code",
      "metadata": {
        "colab": {
          "base_uri": "https://localhost:8080/"
        },
        "id": "gqVdiEyeBAZv",
        "outputId": "ee4a1e9d-b744-4bc3-8328-23ef9358313f"
      },
      "source": [
        "# deque 불러오기 \n",
        "from collections import deque\n",
        "\n",
        "queue = deque()\n",
        "\n",
        "# 큐의 맨 끝에 데이터 삽입하기 \n",
        "queue.append(\"홍길동1\")\n",
        "queue.append(\"홍길동2\")\n",
        "queue.append(\"홍길동3\")\n",
        "queue.append(\"홍길동4\")\n",
        "queue.append(\"홍길동5\")\n",
        "\n",
        "print(queue)"
      ],
      "execution_count": 2,
      "outputs": [
        {
          "output_type": "stream",
          "text": [
            "deque(['홍길동1', '홍길동2', '홍길동3', '홍길동4', '홍길동5'])\n"
          ],
          "name": "stdout"
        }
      ]
    },
    {
      "cell_type": "code",
      "metadata": {
        "colab": {
          "base_uri": "https://localhost:8080/"
        },
        "id": "AQVOX6fTCGJc",
        "outputId": "8e3d65c3-1e96-48fa-9c28-499c6b573229"
      },
      "source": [
        "# queue 접근 \n",
        "print(queue[0])\n",
        "print(queue[1])\n",
        "print(queue[2])"
      ],
      "execution_count": 5,
      "outputs": [
        {
          "output_type": "stream",
          "text": [
            "홍길동1\n",
            "홍길동2\n",
            "홍길동3\n"
          ],
          "name": "stdout"
        }
      ]
    },
    {
      "cell_type": "code",
      "metadata": {
        "colab": {
          "base_uri": "https://localhost:8080/"
        },
        "id": "ddLJZVNLCPUk",
        "outputId": "e8c2ceaa-ebad-429f-debf-0dc96349ff57"
      },
      "source": [
        "# queue 삭제\n",
        "print(queue.popleft())\n",
        "print(queue.popleft())"
      ],
      "execution_count": 6,
      "outputs": [
        {
          "output_type": "stream",
          "text": [
            "홍길동1\n",
            "홍길동2\n"
          ],
          "name": "stdout"
        }
      ]
    },
    {
      "cell_type": "code",
      "metadata": {
        "colab": {
          "base_uri": "https://localhost:8080/"
        },
        "id": "C7ur5YUdCc9V",
        "outputId": "2db46117-7f4f-4ee8-c20a-7fbcd82d79f3"
      },
      "source": [
        "# 삭제여부 확인 \n",
        "print(queue)"
      ],
      "execution_count": 7,
      "outputs": [
        {
          "output_type": "stream",
          "text": [
            "deque(['홍길동3', '홍길동4', '홍길동5'])\n"
          ],
          "name": "stdout"
        }
      ]
    },
    {
      "cell_type": "markdown",
      "metadata": {
        "id": "Gm0ikaQgFDwg"
      },
      "source": [
        "### 4. queue 코드 구현\n"
      ]
    },
    {
      "cell_type": "markdown",
      "metadata": {
        "id": "zc09pA1JsY50"
      },
      "source": [
        "-. 예시1"
      ]
    },
    {
      "cell_type": "code",
      "metadata": {
        "id": "j3u0lyqbCiD6"
      },
      "source": [
        "\n",
        "\n",
        "class Queue:\n",
        "    def __init__(self):\n",
        "        self.front = None\n",
        "        self.rear = None\n",
        "\n",
        "    def enqueue(self, item):\n",
        "        new_node = LinkedListNode(item)\n",
        "        # 큐가 비어있는지 체크\n",
        "        if self.rear is None:\n",
        "            self.front = new_node\n",
        "            self.rear = new_node\n",
        "        else:\n",
        "            # 새로운 노드를 rear 다음에 삽입\n",
        "            self.rear.next = new_node\n",
        "            # 새로운 노드를 rear 재할당\n",
        "            self.rear = new_node\n",
        "\n",
        "    def dequeue(self):\n",
        "        # 큐가 비어있는지 체크\n",
        "        if self.front is not None:\n",
        "            # front값을 old front에 삽입\n",
        "            old_front = self.front\n",
        "            # old front 다음 값을 front값에 삽입\n",
        "            self.front = old_front.next\n",
        "\n",
        "        # 큐가 비어있는지 체크\n",
        "        if self.front is None:\n",
        "            # rear를 None으로 지정한다.\n",
        "            self.rear = None\n",
        "\n",
        "        return old_front"
      ],
      "execution_count": 4,
      "outputs": []
    },
    {
      "cell_type": "markdown",
      "metadata": {
        "id": "o8jQORMCsbFr"
      },
      "source": [
        "-. 예시 2\n"
      ]
    },
    {
      "cell_type": "code",
      "metadata": {
        "colab": {
          "base_uri": "https://localhost:8080/"
        },
        "id": "XLdiDW78FJZ9",
        "outputId": "a4017c45-50ba-4f51-c761-b6b237069561"
      },
      "source": [
        "\n",
        "from collections import deque\n",
        "\n",
        "class CustomerComplaint:\n",
        "    \"\"\"고객 센터 문의를 나타내는 클래스\"\"\"\n",
        "    def __init__(self, name, email, content):\n",
        "        self.name = name\n",
        "        self.email = email\n",
        "        self.content = content\n",
        "\n",
        "        \n",
        "class CustomerServiceCenter:\n",
        "    \"\"\"서비스 센터 클래스\"\"\"\n",
        "    def __init__(self):\n",
        "        self.queue = deque()  # 대기 중인 문의를 저장할 큐 생성\n",
        "\n",
        "        \n",
        "    def process_complaint(self):\n",
        "        \"\"\"접수된 고객 센터 문의 내용 처리하는 메소드\"\"\"\n",
        "        if self.queue:  # 대기 중인 문의가 있는지 확인\n",
        "\n",
        "            # 가장 오래된 문의 먼저 처리\n",
        "            complaint = self.queue.popleft()\n",
        "            print(f\"{complaint.name}님의 {complaint.content} 문의 내용 접수 되었습니다. 담당자가 배정되면 {complaint.email}로 연락드리겠습니다!\")\n",
        "        else:\n",
        "            print(\"더 이상 대기 중인 문의가 없습니다!\")\n",
        "\n",
        "\n",
        "    def add_complaint(self, name, email, content):\n",
        "        \"\"\"새로운 문의를 큐에 추가 시켜주는 메소드\"\"\"\n",
        "        new_complaint = CustomerComplaint(name, email, content)   # 새 문의 인스턴스 생성\n",
        "        self.queue.append(new_complaint) \n",
        "\n",
        "\n",
        "# 고객 문의 센터 인스턴스 생성\n",
        "center = CustomerServiceCenter()\n",
        "\n",
        "# 문의 접수한다\n",
        "center.add_complaint(\"홍길동\", \"123@gmail.com\", \"너무 더워요\")\n",
        "\n",
        "# 문의를 처리한다\n",
        "center.process_complaint()\n",
        "center.process_complaint()\n"
      ],
      "execution_count": 9,
      "outputs": [
        {
          "output_type": "stream",
          "text": [
            "홍길동님의 너무 더워요 문의 내용 접수 되었습니다. 담당자가 배정되면 123@gmail.com로 연락드리겠습니다!\n",
            "더 이상 대기 중인 문의가 없습니다!\n"
          ],
          "name": "stdout"
        }
      ]
    },
    {
      "cell_type": "code",
      "metadata": {
        "id": "7bF1dx5uruqS"
      },
      "source": [
        ""
      ],
      "execution_count": null,
      "outputs": []
    }
  ]
}