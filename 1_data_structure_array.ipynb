{
  "nbformat": 4,
  "nbformat_minor": 0,
  "metadata": {
    "colab": {
      "name": "1. data structure array.ipynb",
      "provenance": []
    },
    "kernelspec": {
      "name": "python3",
      "display_name": "Python 3"
    },
    "language_info": {
      "name": "python"
    }
  },
  "cells": [
    {
      "cell_type": "markdown",
      "metadata": {
        "id": "yu4E_5nyTFSO"
      },
      "source": [
        "# 1. data structure array\n",
        "\n",
        "-. 정적배열과 동적배열 및 시간복잡도를 설명하기 위해 예제코드 입니다.   \n",
        "-. 자세한 설명은 블로그를 참고해주세요  \n",
        "-. 링크 : https://daje0601.tistory.com/211"
      ]
    },
    {
      "cell_type": "markdown",
      "metadata": {
        "id": "8TTaLiijIIWH"
      },
      "source": [
        "1. 선형탐색"
      ]
    },
    {
      "cell_type": "code",
      "metadata": {
        "id": "5nI6hZ5qTBJz"
      },
      "source": [
        "def linear_search(input_data, test_list):\n",
        "  for i in range(len(test_list)):\n",
        "      if test_list[i] == input_data:\n",
        "          return i\n",
        "  return None"
      ],
      "execution_count": 1,
      "outputs": []
    },
    {
      "cell_type": "markdown",
      "metadata": {
        "id": "oXnzJpAQIQlQ"
      },
      "source": [
        "2. 이진탐색"
      ]
    },
    {
      "cell_type": "markdown",
      "metadata": {
        "id": "HHFxEPbwIbCS"
      },
      "source": [
        "1) 예시 1"
      ]
    },
    {
      "cell_type": "code",
      "metadata": {
        "id": "pLnljYrlIG_P"
      },
      "source": [
        "def binary_search(input_data, test_list):\n",
        "    j=0\n",
        "    while len(test_list) != 0:\n",
        "        i = len(test_list)//2    \n",
        "        if input_data > test_list[i]:\n",
        "            test_list = test_list[i+1:]\n",
        "            j = i+1\n",
        "        elif input_data < test_list[i]:\n",
        "            test_list = test_list[:i]\n",
        "        elif input_data == test_list[i]:\n",
        "            j+=i\n",
        "            return j"
      ],
      "execution_count": 2,
      "outputs": []
    },
    {
      "cell_type": "markdown",
      "metadata": {
        "id": "SE7xctE8Ickw"
      },
      "source": [
        "2) 예시 2"
      ]
    },
    {
      "cell_type": "code",
      "metadata": {
        "id": "MThlmyBQIUHq"
      },
      "source": [
        "def binary_search(input_data, test_list):\n",
        "    start_index = 0\n",
        "    end_index = len(test_list) - 1\n",
        "    \n",
        "    while start_index <= end_index:\n",
        "        midpoint = (start_index + end_index) // 2\n",
        "        if test_list[midpoint] == input_data:\n",
        "            return midpoint\n",
        "        elif test_list[midpoint] > input_data:\n",
        "            end_index = midpoint - 1\n",
        "        else:\n",
        "            start_index = midpoint + 1\n",
        "    return None"
      ],
      "execution_count": 3,
      "outputs": []
    },
    {
      "cell_type": "markdown",
      "metadata": {
        "id": "LOoMbkfHIjjv"
      },
      "source": [
        "3. 선택정렬  \n",
        "선택 정렬을 해야하거든  \n",
        "선택정렬이 머야 순회를 하면서 값을 비교하고  \n",
        "비교한 값이 작으면 앞으로 오는 거 잖아\n"
      ]
    },
    {
      "cell_type": "code",
      "metadata": {
        "id": "A7CcYbdXId0g"
      },
      "source": [
        "# 선택정렬 소스코드1\n",
        "\n",
        "def selection_sort(items):\n",
        "  # 여기에서 len(items) - 1을 하는 이유는 앞에 비교하면 맨마지막꺼는 비교를 하지 않아도 되니 -1해줍니다. \n",
        "  for i in range(0, len(items)-1):\n",
        "    list_index = i\n",
        "\n",
        "    # 0번째 인덱스가 들어왔으니 비교해야할 대상은 [1:] 인덱스겠지요?\n",
        "    for j in range(list_index+1, len(items)):\n",
        "      if items[i] > items[j]:\n",
        "      # 만약에 i보다 뒤에 있는 j번째에 있는 값이 작다면 변환을 해주면 됩니다. \n",
        "        items[j], items[i] = items[i], items[j] \n",
        "  return items  "
      ],
      "execution_count": 4,
      "outputs": []
    },
    {
      "cell_type": "code",
      "metadata": {
        "id": "ZMlFrf9fIk3E"
      },
      "source": [
        "# 선택정렬 소스코드2\n",
        "\n",
        "def selection_sort(items):\n",
        "    \n",
        "  for i in range(0, len(items)-1):    # 외부 반복문(루프)\n",
        "\n",
        "    cur_index = i\n",
        "    \n",
        "    for j in range(i+1, len(items)):  # 내부루프\n",
        "        if items[j] < items[cur_index]:    # 최소값찾는 로직\n",
        "            cur_index = j\n",
        "\n",
        "    temp = items[i]\n",
        "    items[i] = items[cur_index]\n",
        "    items[cur_index]= temp \n",
        "\n",
        "    return items"
      ],
      "execution_count": 5,
      "outputs": []
    },
    {
      "cell_type": "code",
      "metadata": {
        "id": "Vylh_-0kIoB-"
      },
      "source": [
        "# 선택정렬 소스코드3\n",
        "\n",
        "def selection_sort(items):\n",
        "    \n",
        "  for i in range(0, len(items) - 1):    # 외부 반복문(루프)\n",
        "\n",
        "      cur_index = i\n",
        "      smallest_index = cur_index\n",
        "      \n",
        "      for j in range(cur_index + 1, len(items)):  # 내부루프\n",
        "          if items[j] < items[smallest_index]:    # 최소값찾는 로직\n",
        "              smallest_index = j\n",
        "\n",
        "      items[smallest_index], items[cur_index] = items[cur_index], items[smallest_index]\n",
        "\n",
        "  return items"
      ],
      "execution_count": 6,
      "outputs": []
    },
    {
      "cell_type": "markdown",
      "metadata": {
        "id": "hhXicHjLIxRO"
      },
      "source": [
        "4. 삽입정렬"
      ]
    },
    {
      "cell_type": "markdown",
      "metadata": {
        "id": "ICIWKSDML7IU"
      },
      "source": [
        "???"
      ]
    },
    {
      "cell_type": "code",
      "metadata": {
        "id": "LACtBN84KVx4",
        "outputId": "dfa74b66-9844-4ad6-dd28-0b5dad501ac8",
        "colab": {
          "base_uri": "https://localhost:8080/"
        }
      },
      "source": [
        "def ins_sort(unsort_list):\n",
        "\n",
        "    for compare_index in range(len(unsort_list)): \n",
        "        compare_value = unsort_list[compare_index]  \n",
        "        prev_position = compare_index - 1   # 이전 노드값에 대한 인덱스를 가리킴\n",
        "        \n",
        "        # 비교연산 후 삽입을 진행하는 반복문\n",
        "        while prev_position >= 0 and unsort_list[prev_position] > compare_value:    \n",
        "            unsort_list[prev_position], compare_value = compare_value, unsort_list[prev_position]\n",
        "            print(unsort_list[prev_position], compare_value )\n",
        "            \n",
        "\n",
        "    return unsort_list\n",
        "            \n",
        "test_arr = [5,3,1,6]\n",
        "ins_sort(test_arr)"
      ],
      "execution_count": 14,
      "outputs": [
        {
          "output_type": "stream",
          "text": [
            "3 5\n",
            "1 3\n"
          ],
          "name": "stdout"
        },
        {
          "output_type": "execute_result",
          "data": {
            "text/plain": [
              "[3, 1, 1, 6]"
            ]
          },
          "metadata": {
            "tags": []
          },
          "execution_count": 14
        }
      ]
    },
    {
      "cell_type": "code",
      "metadata": {
        "id": "yyKxtXYsIqKu",
        "outputId": "8163fc76-af91-4246-d5bd-55208ca7e305",
        "colab": {
          "base_uri": "https://localhost:8080/"
        }
      },
      "source": [
        "def ins_sort(unsort_list):\n",
        "\n",
        "    loop_number = len(unsort_list)          # 반복횟수를 위한 길이설정\n",
        "\n",
        "    # 앞쪽에 있는 노드들을 검색하기 위한 반복문\n",
        "    for compare_index in range(loop_number):    # 비교하려는 위치부터 loop_number만큼 반복\n",
        "        compare_value = unsort_list[compare_index]  \n",
        "        prev_position = compare_index - 1   # 이전 노드값에 대한 인덱스를 가리킴\n",
        "        \n",
        "        # 비교연산 후 삽입을 진행하는 반복문\n",
        "        while prev_position >= 0 and unsort_list[prev_position] > compare_value:    \n",
        "            unsort_list[prev_position + 1] = unsort_list[prev_position] # 1-1차작업 : swap을 위한 작업\n",
        "            prev_position = prev_position - 1\n",
        "        unsort_list[prev_position + 1] = compare_value    # 1-2차작업 : 비교된 더 큰 값을 (이전노드+1) 인덱스에 삽입\n",
        "\n",
        "    return unsort_list\n",
        "            \n",
        "test_arr = [5,3,1,6]\n",
        "ins_sort(test_arr)"
      ],
      "execution_count": 10,
      "outputs": [
        {
          "output_type": "execute_result",
          "data": {
            "text/plain": [
              "[1, 3, 5, 6]"
            ]
          },
          "metadata": {
            "tags": []
          },
          "execution_count": 10
        }
      ]
    },
    {
      "cell_type": "markdown",
      "metadata": {
        "id": "Q-0rnnTsJEjs"
      },
      "source": [
        "일단 삽입정렬은 이미 정렬된 리스트에서 사용을 한다고 했는데,,,  \n",
        "코드가 선택정렬과 무엇이 다른 건지 모르겠다..  \n"
      ]
    },
    {
      "cell_type": "code",
      "metadata": {
        "id": "4SNwoKnrIuNm"
      },
      "source": [
        ""
      ],
      "execution_count": null,
      "outputs": []
    }
  ]
}