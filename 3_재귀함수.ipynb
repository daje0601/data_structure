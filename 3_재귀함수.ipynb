{
  "nbformat": 4,
  "nbformat_minor": 0,
  "metadata": {
    "colab": {
      "name": "3. 재귀함수.ipynb",
      "provenance": [],
      "authorship_tag": "ABX9TyM3FdLHInnw25YSJChIiV6F",
      "include_colab_link": true
    },
    "kernelspec": {
      "name": "python3",
      "display_name": "Python 3"
    },
    "language_info": {
      "name": "python"
    }
  },
  "cells": [
    {
      "cell_type": "markdown",
      "metadata": {
        "id": "view-in-github",
        "colab_type": "text"
      },
      "source": [
        "<a href=\"https://colab.research.google.com/github/daje0601/data_structure/blob/master/3_%EC%9E%AC%EA%B7%80%ED%95%A8%EC%88%98.ipynb\" target=\"_parent\"><img src=\"https://colab.research.google.com/assets/colab-badge.svg\" alt=\"Open In Colab\"/></a>"
      ]
    },
    {
      "cell_type": "markdown",
      "metadata": {
        "id": "4OOwUsQyRppQ"
      },
      "source": [
        "# 3. 재귀함수"
      ]
    },
    {
      "cell_type": "markdown",
      "metadata": {
        "id": "dDrhMaGh_JqT"
      },
      "source": [
        "-. 자료구조 재귀함수에 대한 예제 코드 입니다.   \n",
        "-. 재귀함수에 대한 자세한 설명은 아래 링크를 참조해 주세요  \n",
        "-. https://daje0601.tistory.com/213\n"
      ]
    },
    {
      "cell_type": "code",
      "metadata": {
        "colab": {
          "base_uri": "https://localhost:8080/"
        },
        "id": "u3kdGtUBRosv",
        "outputId": "22ddb5cc-0bc6-44cb-b39f-f0db9594261f"
      },
      "source": [
        "def count_down_func(n):\n",
        "  if n > 0 :\n",
        "    print(n)\n",
        "    return count_down_func(n-1)\n",
        " \n",
        "print(count_down_func(5))"
      ],
      "execution_count": 20,
      "outputs": [
        {
          "output_type": "stream",
          "text": [
            "5\n",
            "4\n",
            "3\n",
            "2\n",
            "1\n",
            "None\n"
          ],
          "name": "stdout"
        }
      ]
    },
    {
      "cell_type": "code",
      "metadata": {
        "colab": {
          "base_uri": "https://localhost:8080/"
        },
        "id": "pE3thYNrRtbV",
        "outputId": "a1821454-41d9-4903-ac3e-04c9ee60ada1"
      },
      "source": [
        "def factorial_func(n):\n",
        "    if n == 1:\n",
        "    \treturn 1\n",
        "    return n * factorial_func(n-1)\n",
        "\n",
        "print(factorial_func(5))"
      ],
      "execution_count": 18,
      "outputs": [
        {
          "output_type": "stream",
          "text": [
            "120\n"
          ],
          "name": "stdout"
        }
      ]
    },
    {
      "cell_type": "markdown",
      "metadata": {
        "id": "oe8ZYXx6XBG5"
      },
      "source": [
        "간단히 설명을 드리면 처음에 n=5입니다. \n",
        "\n",
        "그럼 if절을 생각하고 return으로 넘어가게 됩니다. \n",
        "\n",
        "-> 5  * factorial_func(4)\n",
        "\n",
        "-> 5  * 4 * factorial_func(3)\n",
        "\n",
        "-> 5  * 4 * 3 * factorial_func(2)\n",
        "\n",
        "-> 5  * 4 * 3 * 2 * factorial_func(1)\n",
        "\n",
        "그러다가 factorial_func(1)은 1을 리턴해주기 때문에 1을 곱해주면 120이 출력이 됩니다. "
      ]
    },
    {
      "cell_type": "code",
      "metadata": {
        "colab": {
          "base_uri": "https://localhost:8080/"
        },
        "id": "xstuJAoBSC2M",
        "outputId": "57995e4f-adee-4331-e4b4-bcfb27bd332f"
      },
      "source": [
        "my_list = [1,2,3,4,5]\n",
        "def sum_list(items):\n",
        "    sum = 0\n",
        "    for i in items:\n",
        "        sum = sum + i\n",
        "    return sum\n",
        "\n",
        "sum_list(my_list)"
      ],
      "execution_count": 8,
      "outputs": [
        {
          "output_type": "execute_result",
          "data": {
            "text/plain": [
              "15"
            ]
          },
          "metadata": {
            "tags": []
          },
          "execution_count": 8
        }
      ]
    },
    {
      "cell_type": "code",
      "metadata": {
        "colab": {
          "base_uri": "https://localhost:8080/"
        },
        "id": "SHO5aywKULRM",
        "outputId": "f9398924-581f-440d-9627-755d7edc8b3f"
      },
      "source": [
        "def sum_list(items):\n",
        "    if len(items) == 1:\n",
        "        return items[0]\n",
        "    else:\n",
        "        return items[0] + sum_list(items[1:])  \n",
        "sum_list(my_list)"
      ],
      "execution_count": 17,
      "outputs": [
        {
          "output_type": "execute_result",
          "data": {
            "text/plain": [
              "15"
            ]
          },
          "metadata": {
            "tags": []
          },
          "execution_count": 17
        }
      ]
    },
    {
      "cell_type": "markdown",
      "metadata": {
        "id": "BWTf9m_6XC3h"
      },
      "source": [
        "위에 펙토리얼과 정말 똑같습니다. 단지 들어오는 값이 리스트로 변경되었다는 것뿐입니다.  \n",
        "리스트의 len를 줄여주는 역할을 sum_list(items[1:])이 하게 됩니다.  \n",
        "천천히 여유를 가지고 생각하시면 이해가 되실 겁니다. "
      ]
    },
    {
      "cell_type": "code",
      "metadata": {
        "id": "b6uA7pYwUcBU"
      },
      "source": [
        ""
      ],
      "execution_count": null,
      "outputs": []
    }
  ]
}