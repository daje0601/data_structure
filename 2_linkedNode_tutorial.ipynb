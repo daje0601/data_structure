{
  "nbformat": 4,
  "nbformat_minor": 0,
  "metadata": {
    "colab": {
      "name": "2. linkedNode_tutorial.ipynb",
      "provenance": []
    },
    "kernelspec": {
      "name": "python3",
      "display_name": "Python 3"
    },
    "language_info": {
      "name": "python"
    }
  },
  "cells": [
    {
      "cell_type": "markdown",
      "metadata": {
        "id": "M1gZnlTkSlou"
      },
      "source": [
        "# 링크드 노드 \n",
        "\n",
        "-. 해당 코드는 예제 코드이며, tutorial에 대한 상세한 설명은 아래 블로그를 참고해주세요.   \n",
        "\n",
        "-. https://daje0601.tistory.com/212"
      ]
    },
    {
      "cell_type": "markdown",
      "metadata": {
        "id": "_ynUCsXjFC7n"
      },
      "source": [
        "먼저 Node를 생성하는 class를 만들어야합니다. "
      ]
    },
    {
      "cell_type": "code",
      "metadata": {
        "id": "4p9gIVnT5pWD"
      },
      "source": [
        "class Node:\n",
        "  def __init__(self, data):\n",
        "    self.data = data # 노드의 저장공간에 들어갈 데이터 생성\n",
        "    self.next = None \n",
        "        # 처음 head 노드가 만들어줄때는 아직 어디로 연결을 해주어야할지 모르기 때문에\n",
        "        # 이를 None으로 설정하여 잠시 비워두도록 하겠습니다. \n",
        "        # 즉, 다음 노드에 대한 레퍼런스가 됩니다. \n",
        "        \n",
        "# 아래 숫자를 가지고 노드들을 생성해보겠습니다. \n",
        "# [9, 10, 11, 12, 13]\n",
        "head_node = Node(9) #첫번째 생성된 노드는 head_node라고 함 \n",
        "node_1 = Node(10)\n",
        "node_2 = Node(11)\n",
        "node_3 = Node(12)\n",
        "tail_node = Node(13) #마지막 생성된 노드는 tail_node라고 함 \n"
      ],
      "execution_count": 4,
      "outputs": []
    },
    {
      "cell_type": "code",
      "metadata": {
        "id": "oqzwHRPE51zs"
      },
      "source": [
        "head_node.next = node_1\n",
        "node_1.next = node_2\n",
        "node_2.next = node_3\n",
        "node_3.next = tail_node\n",
        "# tail_node는 마지막 노드이므로 다음 노드에 대한 정보는 None으로 비워두겠습니다. \n",
        "# None은 별도로 설정해주지 않아도 클래스에 있기 때문에 추가적인 코드를 적지 않는 것입니다. "
      ],
      "execution_count": null,
      "outputs": []
    },
    {
      "cell_type": "markdown",
      "metadata": {
        "id": "TC8-yNHzFKTf"
      },
      "source": [
        "잘 생성되었는지 확인합니다."
      ]
    },
    {
      "cell_type": "code",
      "metadata": {
        "colab": {
          "base_uri": "https://localhost:8080/"
        },
        "id": "CYTnNSNo52Qn",
        "outputId": "9981154b-7b16-4fcb-d88b-e38768ca055f"
      },
      "source": [
        "iterator = head_node\n",
        "\n",
        "while iterator is not None:\n",
        "  print(iterator.data)\n",
        "  iterator = iterator.next"
      ],
      "execution_count": null,
      "outputs": [
        {
          "output_type": "stream",
          "text": [
            "9\n",
            "10\n",
            "11\n",
            "12\n",
            "13\n"
          ],
          "name": "stdout"
        }
      ]
    },
    {
      "cell_type": "markdown",
      "metadata": {
        "id": "biUEqWKBFr14"
      },
      "source": [
        "이제 링크드 노드(list)를 만드는 class를 하나씩 배워보도록 하겠습니다."
      ]
    },
    {
      "cell_type": "code",
      "metadata": {
        "id": "e1ZZdz2p6Oia"
      },
      "source": [
        "class LinkedList:\n",
        "\t# 링크드 리스트 클래스\n",
        "  def __init__(self):\n",
        "    self.head = None\n",
        "    self.tail = None\n",
        "\n",
        "  def find_node_at(self, index):\n",
        "    \"\"\"링크드 리스트 접근 연산 메소드\"\"\"\n",
        "    iterator = self.head\n",
        "    for _ in range(index):\n",
        "        iterator = iterator.next\n",
        "    return iterator \n",
        "\n",
        "\t\n",
        "  def append(self, data):\n",
        "  '''링크드 리스트 추가 연산 메소드'''\n",
        "    new_node = Node(data)\n",
        "        \n",
        "    # append를 할때 경우의 수는 2가지가 있다\n",
        "    # 1. head가 없을때\n",
        "    # -. head가 없을 때는 첫번째로 들어노는 노드가 head이면서 tail이 된다. \n",
        "    if self.head is None:\n",
        "      self.head = new_node\n",
        "      self.tail = new_node\n",
        "\n",
        "    else:    \n",
        "    # 2. head가 있을때 \n",
        "    # -. 이곳에는 2가지 일이 일어나야합니다. \n",
        "    # 2-1). tail_node에 new_node를 추가해야하고\n",
        "    \n",
        "      self.tail.next = new_node\n",
        "    # 2-2). 새롭게 들어온 new_node를 tail_node로 변경해야한다. \n",
        "      self.tail = new_node\n",
        "\n",
        "# 새로운 링크드 리스트 생성 \n",
        "lk = LinkedList()\n",
        "\n",
        "# 링크드 리스트에 데이터 추가 \n",
        "lk.append(2)\n",
        "lk.append(3)\n",
        "lk.append(4)\n",
        "lk.append(5)\n",
        "lk.append(7)\n",
        "lk.append(11)\n"
      ],
      "execution_count": null,
      "outputs": []
    },
    {
      "cell_type": "code",
      "metadata": {
        "colab": {
          "base_uri": "https://localhost:8080/"
        },
        "id": "jCdoChhqAMs2",
        "outputId": "c5f5f135-e208-4f24-8473-150f44f41a4f"
      },
      "source": [
        "iterator = lk.head\n",
        "\n",
        "while iterator is not None:\n",
        "  print(iterator.data)\n",
        "  iterator = iterator.next"
      ],
      "execution_count": null,
      "outputs": [
        {
          "output_type": "stream",
          "text": [
            "2\n",
            "3\n",
            "4\n",
            "5\n",
            "7\n",
            "11\n"
          ],
          "name": "stdout"
        }
      ]
    },
    {
      "cell_type": "code",
      "metadata": {
        "colab": {
          "base_uri": "https://localhost:8080/"
        },
        "id": "02T69nk_AcUw",
        "outputId": "108c415f-9963-4cdd-a683-cc97d7f1a4d4"
      },
      "source": [
        "print(lk.find_node_at(3).data)"
      ],
      "execution_count": null,
      "outputs": [
        {
          "output_type": "stream",
          "text": [
            "5\n"
          ],
          "name": "stdout"
        }
      ]
    },
    {
      "cell_type": "markdown",
      "metadata": {
        "id": "pjm1lYo62Z-6"
      },
      "source": [
        "아래 코드에서는 노드를 삽입하는 방법에 대해서 알아보도록 하겠습니다.  \n",
        " -. tail_node 뒤에 삽입하는 경우  \n",
        " -. node와 node 사이에 삽입하는 경우  \n"
      ]
    },
    {
      "cell_type": "code",
      "metadata": {
        "id": "2V8UhiVfPJ5K"
      },
      "source": [
        "class LinkedList:\n",
        "  \t\n",
        "  def __init__(self):\n",
        "    '''링크드 리스트 클래스'''\n",
        "    self.head = None\n",
        "    self.tail = None\n",
        "\n",
        "#-------------------------------------------------------------------------------\n",
        "\n",
        "  def insert_after(self, previous_node, data):\n",
        "    \"\"\"노드 삽입 연산 메소드\"\"\"\n",
        "    new_node = Node(data)\n",
        "\n",
        "    # tail_node 뒤에 삽입하는 경우\n",
        "    if previous_node is self.tail:\n",
        "      self.tail.next = new_node\n",
        "      self.tail = new_node\n",
        "\n",
        "    else:\n",
        "    # 노드와 노드 사이에 삽입하는 경우\n",
        "      new_node.next = previous_node.next\n",
        "      previous_node.next = new_node\n",
        "\n",
        "#-------------------------------------------------------------------------------\n",
        "\n",
        "  def find_node_at(self, index):\n",
        "    \"\"\"링크드 리스트 접근 연산 메소드\"\"\"\n",
        "    iterator = self.head\n",
        "    for _ in range(index):\n",
        "        iterator = iterator.next\n",
        "    return iterator \n",
        "\n",
        "#-------------------------------------------------------------------------------\n",
        "\n",
        "  def append(self, data):\n",
        "    '''링크드 리스트 추가 연산 메소드'''\n",
        "    new_node = Node(data)\n",
        "        \n",
        "    # append를 할때 경우의 수는 2가지가 있다\n",
        "    # 1. head가 없을때\n",
        "    # -. head가 없을 때는 첫번째로 들어노는 노드가 head이면서 tail이 된다. \n",
        "    if self.head is None:\n",
        "      self.head = new_node\n",
        "      self.tail = new_node\n",
        "\n",
        "    else:    \n",
        "    # 2. head가 있을때 \n",
        "    # -. 이곳에는 2가지 일이 일어나야합니다. \n",
        "    # 2-1). tail_node에 new_node를 추가해야하고\n",
        "    \n",
        "      self.tail.next = new_node\n",
        "    # 2-2). 새롭게 들어온 new_node를 tail_node로 변경해야한다. \n",
        "      self.tail = new_node\n",
        "\n",
        "#-------------------------------------------------------------------------------\n",
        "\n",
        "# 새로운 링크드 리스트 생성 \n",
        "lk = LinkedList()\n",
        "\n",
        "# 링크드 리스트에 데이터 추가 \n",
        "lk.append(2)\n",
        "lk.append(3)\n",
        "lk.append(4)\n",
        "lk.append(5)\n",
        "lk.append(7)\n",
        "lk.append(11)\n"
      ],
      "execution_count": null,
      "outputs": []
    },
    {
      "cell_type": "code",
      "metadata": {
        "id": "djlcAIhsu9MU",
        "colab": {
          "base_uri": "https://localhost:8080/"
        },
        "outputId": "33eff868-4e63-4d34-ac52-835ac95e79cf"
      },
      "source": [
        "iterator = lk.head\n",
        "\n",
        "while iterator is not None:\n",
        "  print(iterator.data)\n",
        "  iterator = iterator.next"
      ],
      "execution_count": null,
      "outputs": [
        {
          "output_type": "stream",
          "text": [
            "2\n",
            "3\n",
            "4\n",
            "5\n",
            "7\n",
            "11\n"
          ],
          "name": "stdout"
        }
      ]
    },
    {
      "cell_type": "code",
      "metadata": {
        "id": "J0q4EfyAvG4S"
      },
      "source": [
        "node_2 = lk.find_node_at(2)\n",
        "lk.insert_after(node_2, 6)"
      ],
      "execution_count": null,
      "outputs": []
    },
    {
      "cell_type": "code",
      "metadata": {
        "id": "EWuk_X3zvbRn",
        "colab": {
          "base_uri": "https://localhost:8080/"
        },
        "outputId": "2dd0062c-1167-4160-a019-597997270633"
      },
      "source": [
        "iterator = lk.head\n",
        "\n",
        "while iterator is not None:\n",
        "  print(iterator.data)\n",
        "  iterator = iterator.next"
      ],
      "execution_count": null,
      "outputs": [
        {
          "output_type": "stream",
          "text": [
            "2\n",
            "3\n",
            "4\n",
            "6\n",
            "5\n",
            "7\n",
            "11\n"
          ],
          "name": "stdout"
        }
      ]
    },
    {
      "cell_type": "code",
      "metadata": {
        "id": "dEiDzQV-vvte"
      },
      "source": [
        "head_node = lk.head\n",
        "lk.insert_after(head_node, 100)"
      ],
      "execution_count": null,
      "outputs": []
    },
    {
      "cell_type": "code",
      "metadata": {
        "id": "_0nHoPOpv7re",
        "colab": {
          "base_uri": "https://localhost:8080/"
        },
        "outputId": "1ef02abb-92c9-4835-8cf8-ddd92da95da6"
      },
      "source": [
        "iterator = lk.head\n",
        "\n",
        "while iterator is not None:\n",
        "  print(iterator.data)\n",
        "  iterator = iterator.next"
      ],
      "execution_count": null,
      "outputs": [
        {
          "output_type": "stream",
          "text": [
            "2\n",
            "100\n",
            "3\n",
            "4\n",
            "6\n",
            "5\n",
            "7\n",
            "11\n"
          ],
          "name": "stdout"
        }
      ]
    },
    {
      "cell_type": "markdown",
      "metadata": {
        "id": "szTRBtKh16Ua"
      },
      "source": [
        "아래 코드에서는 head 앞쪽에 Node를 추가하는 방법에 대해서 알아보겠습니다."
      ]
    },
    {
      "cell_type": "code",
      "metadata": {
        "id": "Q9K7wPFZv-aB"
      },
      "source": [
        "class LinkedList:\n",
        "  \t\n",
        "  def __init__(self):\n",
        "    '''링크드 리스트 클래스'''\n",
        "    self.head = None\n",
        "    self.tail = None\n",
        "\n",
        "#-------------------------------------------------------------------------------\n",
        "\n",
        "  def insert_after(self, previous_node, data):\n",
        "    \"\"\"노드 삽입 연산 메소드\"\"\"\n",
        "    new_node = Node(data)\n",
        "\n",
        "    # tail_node 뒤에 삽입하는 경우\n",
        "    if previous_node is self.tail:\n",
        "      self.tail.next = new_node\n",
        "      self.tail = new_node\n",
        "\n",
        "    else:\n",
        "    # 노드와 노드 사이에 삽입하는 경우\n",
        "      new_node.next = previous_node.next\n",
        "      previous_node.next = new_node\n",
        "\n",
        "#-------------------------------------------------------------------------------\n",
        "\n",
        "\n",
        "  def prepend(self, data):\n",
        "      \"\"\"링크드 리스트의 가장 앞에 데이터 삽입\"\"\"\n",
        "      \n",
        "      new_node = Node(data)\n",
        "      '''\n",
        "      # 만약 해당 코드를 사용하지 않는다면 \n",
        "      # AttributeError: 'int' object has no attribute 'next' \n",
        "      # UnboundLocalError: local variable 'new_node' referenced before assignment \n",
        "      # 위와 같은 에러를 만날 수 있는데요\n",
        "      # 그 이유는 아래와 같습니다. \n",
        "      # You are appending int elements (instead of Nodes) to the list as your append method is designed for Nodes (as next_element) but you are passing ints.\n",
        "      # 출처 : https://stackoverflow.com/questions/63301445/linked-list-error-int-object-has-no-attribute-next\n",
        "      '''\n",
        "      \n",
        "      if self.head is None:\n",
        "          self.head = new_node\n",
        "          self.tail = new_node\n",
        "\n",
        "      else:\n",
        "          new_node.next = self.head\n",
        "      \n",
        "      self.head = new_node\n",
        "\n",
        "#-------------------------------------------------------------------------------\n",
        "\n",
        "  def find_node_at(self, index):\n",
        "    \"\"\"링크드 리스트 접근 연산 메소드\"\"\"\n",
        "    iterator = self.head\n",
        "    for _ in range(index):\n",
        "        iterator = iterator.next\n",
        "    return iterator \n",
        "\n",
        "#-------------------------------------------------------------------------------\n",
        "\n",
        "  def append(self, data):\n",
        "    '''링크드 리스트 추가 연산 메소드'''\n",
        "    new_node = Node(data)\n",
        "        \n",
        "    # append를 할때 경우의 수는 2가지가 있다\n",
        "    # 1. head가 없을때\n",
        "    # -. head가 없을 때는 첫번째로 들어노는 노드가 head이면서 tail이 된다. \n",
        "    if self.head is None:\n",
        "      self.head = new_node\n",
        "      self.tail = new_node\n",
        "\n",
        "    else:    \n",
        "    # 2. head가 있을때 \n",
        "    # -. 이곳에는 2가지 일이 일어나야합니다. \n",
        "    # 2-1). tail_node에 new_node를 추가해야하고\n",
        "    \n",
        "      self.tail.next = new_node\n",
        "    # 2-2). 새롭게 들어온 new_node를 tail_node로 변경해야한다. \n",
        "      self.tail = new_node\n",
        "\n",
        "#-------------------------------------------------------------------------------\n",
        "\n",
        "# 새로운 링크드 리스트 생성 \n",
        "lk = LinkedList()\n",
        "\n",
        "# 링크드 리스트에 데이터 추가 \n",
        "lk.append(2)\n",
        "lk.append(3)\n",
        "lk.append(4)\n",
        "lk.append(5)\n",
        "lk.append(7)\n",
        "lk.append(11)\n"
      ],
      "execution_count": null,
      "outputs": []
    },
    {
      "cell_type": "markdown",
      "metadata": {
        "id": "DDCGoVqU2CTy"
      },
      "source": [
        "아래 코드에서는 노드를 삭제하는 방법에 대해서 알아보도록 하겠습니다.  \n",
        " -. tail_node를 삭제하는 경우  \n",
        " -. 일반 node를 삭제하는 경우  \n"
      ]
    },
    {
      "cell_type": "code",
      "metadata": {
        "id": "GZR6A-ny4qsk"
      },
      "source": [
        " class LinkedList:\n",
        "  \t\n",
        "  def __init__(self):\n",
        "    '''링크드 리스트 클래스'''\n",
        "    self.head = None\n",
        "    self.tail = None\n",
        "\n",
        "#-------------------------------------------------------------------------------\n",
        "\n",
        "  def delet_after(self, previous_node):\n",
        "    \"\"\"링크드 리스트 삭제 연산\"\"\"\n",
        "\n",
        "    # 삭제를 할때는 어떤 값을 삭제를 하였는지 알아야하기 때문에 \n",
        "    # 해당 data를 return하는 것이 관습이라고 합니다. \n",
        "    # 이에, 해당 데이터를 return 하기 위해 data라고 변수를 설정하고 아래에서 리턴하겠습니다. \n",
        "    data = previous_node.next.data\n",
        "\n",
        "    '''\n",
        "    tail_node를 삭제하는 경우는 \n",
        "    tail_node의 previous_node가 node을 가르키게만 하면 된다. \n",
        "    이제 previous_node가 tail_node가 되도록 지정해주기만 하면 됩니다. \n",
        "    '''\n",
        "    '''  \n",
        "    2,3,5,7의 링크드 노드가 있다고 해보겠습니다. \n",
        "    이때 5를 삭제한다고 하면 3을 7에게 연결만 해주면 된다.\n",
        "    코드로 살펴보면 아래와 같습니다.\n",
        "    '''\n",
        "    if previous_node.next is self.tail:\n",
        "      previous_node.next = None\n",
        "      tail_node = previous_node\n",
        "    else:\n",
        "      previous_node.next = previous_node.next.next\n",
        "    \n",
        "    return data \n",
        "\n",
        "#-------------------------------------------------------------------------------\n",
        "\n",
        "  def insert_after(self, previous_node, data):\n",
        "    \"\"\"노드 삽입 연산 메소드\"\"\"\n",
        "    new_node = Node(data)\n",
        "\n",
        "    # tail_node 뒤에 삽입하는 경우\n",
        "    if previous_node is self.tail:\n",
        "      self.tail.next = new_node\n",
        "      self.tail = new_node\n",
        "\n",
        "    else:\n",
        "    # 노드와 노드 사이에 삽입하는 경우\n",
        "      new_node.next = previous_node.next\n",
        "      previous_node.next = new_node\n",
        "\n",
        "#-------------------------------------------------------------------------------\n",
        "\n",
        "\n",
        "  def prepend(self, data):\n",
        "      \"\"\"링크드 리스트의 가장 앞에 데이터 삽입\"\"\"\n",
        "      \n",
        "      new_node = Node(data)\n",
        "      '''\n",
        "      # 만약 해당 코드를 사용하지 않는다면 \n",
        "      # AttributeError: 'int' object has no attribute 'next' \n",
        "      # UnboundLocalError: local variable 'new_node' referenced before assignment \n",
        "      # 위와 같은 에러를 만날 수 있는데요\n",
        "      # 그 이유는 아래와 같습니다. \n",
        "      # You are appending int elements (instead of Nodes) to the list as your append method is designed for Nodes (as next_element) but you are passing ints.\n",
        "      # 출처 : https://stackoverflow.com/questions/63301445/linked-list-error-int-object-has-no-attribute-next\n",
        "      '''\n",
        "      \n",
        "      if self.head is None:\n",
        "          self.head = new_node\n",
        "          self.tail = new_node\n",
        "\n",
        "      else:\n",
        "          new_node.next = self.head\n",
        "      \n",
        "      self.head = new_node\n",
        "\n",
        "#-------------------------------------------------------------------------------\n",
        "\n",
        "  def find_node_at(self, index):\n",
        "    \"\"\"링크드 리스트 접근 연산 메소드\"\"\"\n",
        "    iterator = self.head\n",
        "    for _ in range(index):\n",
        "        iterator = iterator.next\n",
        "    return iterator \n",
        "\n",
        "#-------------------------------------------------------------------------------\n",
        "\n",
        "  def append(self, data):\n",
        "    '''링크드 리스트 추가 연산 메소드'''\n",
        "    new_node = Node(data)\n",
        "        \n",
        "    # append를 할때 경우의 수는 2가지가 있다\n",
        "    # 1. head가 없을때\n",
        "    # -. head가 없을 때는 첫번째로 들어노는 노드가 head이면서 tail이 된다. \n",
        "    if self.head is None:\n",
        "      self.head = new_node\n",
        "      self.tail = new_node\n",
        "\n",
        "    else:    \n",
        "    # 2. head가 있을때 \n",
        "    # -. 이곳에는 2가지 일이 일어나야합니다. \n",
        "    # 2-1). tail_node에 new_node를 추가해야하고\n",
        "    \n",
        "      self.tail.next = new_node\n",
        "    # 2-2). 새롭게 들어온 new_node를 tail_node로 변경해야한다. \n",
        "      self.tail = new_node\n",
        "\n",
        "#-------------------------------------------------------------------------------\n",
        "\n",
        "# 새로운 링크드 리스트 생성 \n",
        "lk = LinkedList()\n",
        "\n",
        "# 링크드 리스트에 데이터 추가 \n",
        "lk.append(2)\n",
        "lk.append(3)\n",
        "lk.append(4)\n",
        "lk.append(5)\n",
        "lk.append(7)\n",
        "lk.append(11)\n"
      ],
      "execution_count": null,
      "outputs": []
    },
    {
      "cell_type": "code",
      "metadata": {
        "id": "kqfwcCzK7h66",
        "colab": {
          "base_uri": "https://localhost:8080/"
        },
        "outputId": "f4ee3657-28a2-4047-fed1-551e3bd73586"
      },
      "source": [
        "iterator = lk.head\n",
        "\n",
        "while iterator is not None:\n",
        "  print(iterator.data)\n",
        "  iterator = iterator.next"
      ],
      "execution_count": null,
      "outputs": [
        {
          "output_type": "stream",
          "text": [
            "2\n",
            "3\n",
            "4\n",
            "5\n",
            "7\n",
            "11\n"
          ],
          "name": "stdout"
        }
      ]
    },
    {
      "cell_type": "code",
      "metadata": {
        "id": "kAes8x1H7Ejx",
        "colab": {
          "base_uri": "https://localhost:8080/"
        },
        "outputId": "bf2924c9-0acc-400d-89d3-8918eb96ec0d"
      },
      "source": [
        "node_2 = lk.find_node_at(2)\n",
        "lk.delet_after(node_2)                        "
      ],
      "execution_count": null,
      "outputs": [
        {
          "output_type": "execute_result",
          "data": {
            "text/plain": [
              "5"
            ]
          },
          "metadata": {
            "tags": []
          },
          "execution_count": 50
        }
      ]
    },
    {
      "cell_type": "code",
      "metadata": {
        "id": "RzcqD6m37fNO",
        "colab": {
          "base_uri": "https://localhost:8080/"
        },
        "outputId": "57e71ac3-ddeb-467d-f6eb-2fcbbc1cfdc2"
      },
      "source": [
        "iterator = lk.head\n",
        "\n",
        "while iterator is not None:\n",
        "  print(iterator.data)\n",
        "  iterator = iterator.next"
      ],
      "execution_count": null,
      "outputs": [
        {
          "output_type": "stream",
          "text": [
            "2\n",
            "3\n",
            "4\n",
            "7\n",
            "11\n"
          ],
          "name": "stdout"
        }
      ]
    },
    {
      "cell_type": "code",
      "metadata": {
        "id": "dvBoSpCE7i2J",
        "colab": {
          "base_uri": "https://localhost:8080/"
        },
        "outputId": "35458b84-f6ad-460e-91a8-661d3afcc5fa"
      },
      "source": [
        "last_node = lk.find_node_at(3)\n",
        "lk.delet_after(last_node)"
      ],
      "execution_count": null,
      "outputs": [
        {
          "output_type": "execute_result",
          "data": {
            "text/plain": [
              "11"
            ]
          },
          "metadata": {
            "tags": []
          },
          "execution_count": 52
        }
      ]
    },
    {
      "cell_type": "code",
      "metadata": {
        "id": "etwsYC_d8Cqc",
        "colab": {
          "base_uri": "https://localhost:8080/"
        },
        "outputId": "c2e1e73e-eea5-4147-94ef-4e72cea02e17"
      },
      "source": [
        "iterator = lk.head\n",
        "\n",
        "while iterator is not None:\n",
        "  print(iterator.data)\n",
        "  iterator = iterator.next"
      ],
      "execution_count": null,
      "outputs": [
        {
          "output_type": "stream",
          "text": [
            "2\n",
            "3\n",
            "4\n",
            "7\n"
          ],
          "name": "stdout"
        }
      ]
    },
    {
      "cell_type": "markdown",
      "metadata": {
        "id": "8UsQLDRjALJo"
      },
      "source": [
        "아래 코드에서는 head를 삭제하는 경우를 살펴보겠습니다.   \n",
        " -. 삭제하려는 노드가 마지막 남은 노드일때(self.head가 self.tail일 때)   \n",
        " -. 삭제하려는 노드가 마지막 남은 노드가 아닐때"
      ]
    },
    {
      "cell_type": "code",
      "metadata": {
        "id": "n21wS1PoAKCQ"
      },
      "source": [
        " class LinkedList:\n",
        "  \t\n",
        "  def __init__(self):\n",
        "    '''링크드 리스트 클래스'''\n",
        "    self.head = None\n",
        "    self.tail = None\n",
        "\n",
        "#-------------------------------------------------------------------------------\n",
        "\n",
        "  def pop_left(self):\n",
        "      \"\"\"링크드 리스트의 가장 앞 노드 삭제 메소드. 단, 링크드 리스트에 항상 노드가 있다고 가정한다\"\"\"\n",
        "      \n",
        "      # 삭제하는 노드 값을 출력하기 위한 변수설정\n",
        "      data = self.head.data\n",
        "      \n",
        "      # 1. 삭제하려는 노드가 링크드 노드에서 마지막 노드일때\n",
        "      if self.head is self.tail:\n",
        "          self.head = None\n",
        "          self.tail = None\n",
        "      # 2. 삭제하려는 노드가 링크드 노드에 마지막 노드가 아닐때 \n",
        "      else:\n",
        "          self.head = self.head.next\n",
        "\n",
        "      return data\n",
        "\n",
        "#-------------------------------------------------------------------------------\n",
        "\n",
        "  def delet_after(self, previous_node):\n",
        "    \"\"\"링크드 리스트 삭제 연산\"\"\"\n",
        "\n",
        "    # 삭제를 할때는 어떤 값을 삭제를 하였는지 알아야하기 때문에 \n",
        "    # 해당 data를 return하는 것이 관습이라고 합니다. \n",
        "    # 이에, 해당 데이터를 return 하기 위해 data라고 변수를 설정하고 아래에서 리턴하겠습니다. \n",
        "    data = previous_node.next.data\n",
        "\n",
        "    '''\n",
        "    tail_node를 삭제하는 경우는 \n",
        "    tail_node의 previous_node가 node을 가르키게만 하면 된다. \n",
        "    이제 previous_node가 tail_node가 되도록 지정해주기만 하면 됩니다. \n",
        "    '''\n",
        "    '''  \n",
        "    2,3,5,7의 링크드 노드가 있다고 해보겠습니다. \n",
        "    이때 5를 삭제한다고 하면 3을 7에게 연결만 해주면 된다.\n",
        "    코드로 살펴보면 아래와 같습니다.\n",
        "    '''\n",
        "    if previous_node.next is self.tail:\n",
        "      previous_node.next = None\n",
        "      tail_node = previous_node\n",
        "    else:\n",
        "      previous_node.next = previous_node.next.next\n",
        "    \n",
        "    return data \n",
        "\n",
        "#-------------------------------------------------------------------------------\n",
        "\n",
        "  def insert_after(self, previous_node, data):\n",
        "    \"\"\"노드 삽입 연산 메소드\"\"\"\n",
        "    new_node = Node(data)\n",
        "\n",
        "    # tail_node 뒤에 삽입하는 경우\n",
        "    if previous_node is self.tail:\n",
        "      self.tail.next = new_node\n",
        "      self.tail = new_node\n",
        "\n",
        "    else:\n",
        "    # 노드와 노드 사이에 삽입하는 경우\n",
        "      new_node.next = previous_node.next\n",
        "      previous_node.next = new_node\n",
        "\n",
        "#-------------------------------------------------------------------------------\n",
        "\n",
        "\n",
        "  def prepend(self, data):\n",
        "      \"\"\"링크드 리스트의 가장 앞에 데이터 삽입\"\"\"\n",
        "      \n",
        "      new_node = Node(data)\n",
        "      '''\n",
        "      # 만약 해당 코드를 사용하지 않는다면 \n",
        "      # AttributeError: 'int' object has no attribute 'next' \n",
        "      # UnboundLocalError: local variable 'new_node' referenced before assignment \n",
        "      # 위와 같은 에러를 만날 수 있는데요\n",
        "      # 그 이유는 아래와 같습니다. \n",
        "      # You are appending int elements (instead of Nodes) to the list as your append method is designed for Nodes (as next_element) but you are passing ints.\n",
        "      # 출처 : https://stackoverflow.com/questions/63301445/linked-list-error-int-object-has-no-attribute-next\n",
        "      '''\n",
        "      \n",
        "      if self.head is None:\n",
        "          self.head = new_node\n",
        "          self.tail = new_node\n",
        "\n",
        "      else:\n",
        "          new_node.next = self.head\n",
        "      \n",
        "      self.head = new_node\n",
        "\n",
        "#-------------------------------------------------------------------------------\n",
        "\n",
        "  def find_node_at(self, index):\n",
        "    \"\"\"링크드 리스트 접근 연산 메소드\"\"\"\n",
        "    iterator = self.head\n",
        "    for _ in range(index):\n",
        "        iterator = iterator.next\n",
        "    return iterator \n",
        "\n",
        "#-------------------------------------------------------------------------------\n",
        "\n",
        "  def append(self, data):\n",
        "    '''링크드 리스트 추가 연산 메소드'''\n",
        "    new_node = Node(data)\n",
        "        \n",
        "    # append를 할때 경우의 수는 2가지가 있다\n",
        "    # 1. head가 없을때\n",
        "    # -. head가 없을 때는 첫번째로 들어노는 노드가 head이면서 tail이 된다. \n",
        "    if self.head is None:\n",
        "      self.head = new_node\n",
        "      self.tail = new_node\n",
        "\n",
        "    else:    \n",
        "    # 2. head가 있을때 \n",
        "    # -. 이곳에는 2가지 일이 일어나야합니다. \n",
        "    # 2-1). tail_node에 new_node를 추가해야하고\n",
        "    \n",
        "      self.tail.next = new_node\n",
        "    # 2-2). 새롭게 들어온 new_node를 tail_node로 변경해야한다. \n",
        "      self.tail = new_node\n",
        "\n",
        "#-------------------------------------------------------------------------------\n",
        "\n",
        "# 새로운 링크드 리스트 생성 \n",
        "lk = LinkedList()\n",
        "\n",
        "# 링크드 리스트에 데이터 추가 \n",
        "lk.append(2)\n",
        "lk.append(3)\n",
        "lk.append(4)\n",
        "lk.append(5)\n",
        "lk.append(7)\n",
        "lk.append(11)\n"
      ],
      "execution_count": null,
      "outputs": []
    },
    {
      "cell_type": "code",
      "metadata": {
        "id": "p_grHciZBy99",
        "colab": {
          "base_uri": "https://localhost:8080/"
        },
        "outputId": "1c84400f-361a-4c40-c2ef-f9248b9cf4ad"
      },
      "source": [
        "iterator = lk.head\n",
        "\n",
        "while iterator is not None:\n",
        "  print(iterator.data)\n",
        "  iterator = iterator.next"
      ],
      "execution_count": null,
      "outputs": [
        {
          "output_type": "stream",
          "text": [
            "2\n",
            "3\n",
            "4\n",
            "5\n",
            "7\n",
            "11\n"
          ],
          "name": "stdout"
        }
      ]
    },
    {
      "cell_type": "code",
      "metadata": {
        "id": "v0CfcygzBEer",
        "colab": {
          "base_uri": "https://localhost:8080/"
        },
        "outputId": "bd04be8e-f307-41de-f4d9-bbcf0deaca55"
      },
      "source": [
        "# 가장 앞 노드 계속 삭제\n",
        "print(lk.pop_left())\n",
        "print(lk.pop_left())\n",
        "print(lk.pop_left())\n",
        "print(lk.pop_left())\n",
        "print(lk.pop_left())\n",
        "print(lk.pop_left())\n",
        "\n",
        "print(lk)  # 링크드 리스트 출력\n",
        "print(lk.head)\n",
        "print(lk.tail)"
      ],
      "execution_count": null,
      "outputs": [
        {
          "output_type": "stream",
          "text": [
            "2\n",
            "3\n",
            "4\n",
            "5\n",
            "7\n",
            "11\n",
            "<__main__.LinkedList object at 0x7f9a1893f350>\n",
            "None\n",
            "None\n"
          ],
          "name": "stdout"
        }
      ]
    },
    {
      "cell_type": "code",
      "metadata": {
        "id": "P2dr9brHBnJ1"
      },
      "source": [
        "iterator = lk.head\n",
        "\n",
        "while iterator is not None:\n",
        "  print(iterator.data)\n",
        "  iterator = iterator.next"
      ],
      "execution_count": null,
      "outputs": []
    },
    {
      "cell_type": "markdown",
      "metadata": {
        "id": "FoSvl8OLB33F"
      },
      "source": [
        "위 코드에서는 모든 노드가 삭제되었기 때문에 아무것도 뜨지 않는 것이 맞습니다."
      ]
    },
    {
      "cell_type": "code",
      "metadata": {
        "id": "PbjO2nNB8Fce"
      },
      "source": [
        "def __str__(self):\n",
        "        \"\"\"링크드 리스트를 문자열로 표현해서 리턴하는 메소드\"\"\"\n",
        "        res_str = \"|\"\n",
        "\n",
        "        # 링크드 리스트 안에 모든 노드를 돌기 위한 변수. 일단 가장 앞 노드로 정의한다.\n",
        "        iterator = self.head\n",
        "\n",
        "        # 링크드 리스트 끝까지 돈다\n",
        "        while iterator is not None:\n",
        "            # 각 노드의 데이터를 리턴하는 문자열에 더해준다\n",
        "            res_str += f\" {iterator.data} |\"\n",
        "            iterator = iterator.next # 다음 노드로 넘어간다\n",
        "\n",
        "        return res_str"
      ],
      "execution_count": null,
      "outputs": []
    },
    {
      "cell_type": "markdown",
      "metadata": {
        "id": "lJkqopStQxvR"
      },
      "source": [
        "지금까지는 각각의 기능별로 함수를 만들어서 링크드 리스트에 대해서 살펴보았습니다.  \n",
        "그런데 코드를 줄일 수 있는 방법이 있는거 같습니다.  \n",
        "\n",
        " 아래에서는 어떻게 코드를 줄일 수 있는지 확인을 해보겠습니다. "
      ]
    },
    {
      "cell_type": "code",
      "metadata": {
        "id": "I3x4IESI-TQ1"
      },
      "source": [
        ""
      ],
      "execution_count": 2,
      "outputs": []
    },
    {
      "cell_type": "code",
      "metadata": {
        "id": "5e9xpUy3kEZF"
      },
      "source": [
        "Node(2).next"
      ],
      "execution_count": 7,
      "outputs": []
    },
    {
      "cell_type": "code",
      "metadata": {
        "id": "Va_ZVwSckGME",
        "outputId": "f0f07a21-7e21-4593-a173-443b21fbd9fb",
        "colab": {
          "base_uri": "https://localhost:8080/"
        }
      },
      "source": [
        "# 노드출력 테스트\n",
        "linkedlist = linked_list(11)\n",
        "linkedlist.head.value"
      ],
      "execution_count": 14,
      "outputs": [
        {
          "output_type": "execute_result",
          "data": {
            "text/plain": [
              "11"
            ]
          },
          "metadata": {
            "tags": []
          },
          "execution_count": 14
        }
      ]
    },
    {
      "cell_type": "code",
      "metadata": {
        "id": "o0AIC4MoUahA"
      },
      "source": [
        "while None:\n",
        "  pritn(True)\n",
        "  break"
      ],
      "execution_count": 61,
      "outputs": []
    },
    {
      "cell_type": "code",
      "metadata": {
        "id": "e2VvurADkP7k"
      },
      "source": [
        "class Node:\n",
        "  def __init__(self, value):\n",
        "    self.value = value\n",
        "    self.next = None\n",
        "\n",
        "class LinkedList:\n",
        "  \n",
        "  def __init__(self, value):\n",
        "    '''링크드 리스트 클래스'''\n",
        "    self.head = Node(value)\n",
        "\n",
        "  def find_node_at(self, index):\n",
        "    \"\"\"링크드 리스트 접근 연산 메소드\"\"\"\n",
        "    iterator = self.head\n",
        "    for _ in range(index):\n",
        "        iterator = iterator.next\n",
        "    return iterator \n",
        "\n",
        "  def insert_after(self, previous_node, value):\n",
        "    \"\"\"노드 삽입 연산 메소드\"\"\"\n",
        "    new_node = Node(value)\n",
        "    new_node.next = previous_node.next\n",
        "    previous_node.next = new_node\n",
        "\n",
        "  def change_head_node(self, data):\n",
        "      \"\"\"링크드 리스트 head의 가장 앞에 데이터 삽입\"\"\" \n",
        "      new_node = Node(data)\n",
        "\n",
        "      if self.head is None:\n",
        "          self.head = new_node\n",
        "          self.tail = new_node\n",
        "      else:\n",
        "          new_node.next = self.head\n",
        "      self.head = new_node\n",
        "\n",
        "  def add_node(self, value):   \n",
        "    \"\"\"링크드 리스트 노드 추가하기\"\"\"\n",
        "    if self.head == None:\n",
        "      self.head = Node(value)\n",
        "    \n",
        "    else:    \n",
        "      node = self.head\n",
        "      while node.next:\n",
        "        node = node.next\n",
        "      node.next = Node(value)\n",
        "  \n",
        "  def delete_node(self, value):\n",
        "    # 1) head가 None 일때\n",
        "    # 2) head를 삭제할 때\n",
        "    # 3) head가 아닌 node를 삭제할때\n",
        "    if self.head == None:\n",
        "      return \n",
        "    \n",
        "    elif self.head.value == value:\n",
        "      del_node = self.head\n",
        "      self.head = self.head.next\n",
        "      del del_node\n",
        "\n",
        "    else:\n",
        "      node = self.head\n",
        "      while node.next:\n",
        "        if node.next.value == value:\n",
        "          del_node = node.next\n",
        "          node.next = node.next.next\n",
        "          del del_node\n",
        "        else:\n",
        "          node = node.next\n",
        "          \n",
        "  # 연결리스트의 노드출력을 위한 기능\n",
        "  def ord_desc(self):\n",
        "    node = self.head\n",
        "    while node:\n",
        "      print(node.value)\n",
        "      node = node.next \n",
        "\n",
        "\n",
        "\n",
        "lk = LinkedList(0)\n"
      ],
      "execution_count": 117,
      "outputs": []
    },
    {
      "cell_type": "code",
      "metadata": {
        "id": "aYLRdy8qKW55",
        "outputId": "0ba2f897-d582-4252-dc81-b879f12f79e5",
        "colab": {
          "base_uri": "https://localhost:8080/"
        }
      },
      "source": [
        "lk.head.value"
      ],
      "execution_count": 118,
      "outputs": [
        {
          "output_type": "execute_result",
          "data": {
            "text/plain": [
              "0"
            ]
          },
          "metadata": {
            "tags": []
          },
          "execution_count": 118
        }
      ]
    },
    {
      "cell_type": "code",
      "metadata": {
        "id": "2EsWYGk-M-7H"
      },
      "source": [
        "for value in range(1,10):\n",
        "  lk.add_node(value)"
      ],
      "execution_count": 119,
      "outputs": []
    },
    {
      "cell_type": "code",
      "metadata": {
        "id": "pvIn7YhRN4R8",
        "outputId": "7410d774-8dad-4b0d-f91d-3b602429fda9",
        "colab": {
          "base_uri": "https://localhost:8080/"
        }
      },
      "source": [
        "lk.head.value, lk.head.next.value, lk.head.next.next.value"
      ],
      "execution_count": 120,
      "outputs": [
        {
          "output_type": "execute_result",
          "data": {
            "text/plain": [
              "(0, 1, 2)"
            ]
          },
          "metadata": {
            "tags": []
          },
          "execution_count": 120
        }
      ]
    },
    {
      "cell_type": "code",
      "metadata": {
        "id": "pkBk0J1iP6BJ",
        "outputId": "d322cbfd-f08c-4132-9dd9-68a7f587bc6c",
        "colab": {
          "base_uri": "https://localhost:8080/"
        }
      },
      "source": [
        "print(lk.head.value)\n",
        "print(lk.head.next.value)\n",
        "print(lk.head.next.next.value)"
      ],
      "execution_count": 121,
      "outputs": [
        {
          "output_type": "stream",
          "text": [
            "0\n",
            "1\n",
            "2\n"
          ],
          "name": "stdout"
        }
      ]
    },
    {
      "cell_type": "markdown",
      "metadata": {
        "id": "6ZCKk1zmQP-4"
      },
      "source": [
        "매번 이렇게 next를 추가하면서 값을 확인 할 수가 없으니 출력해주는 함수를 만들어보도록 하겠습니다. "
      ]
    },
    {
      "cell_type": "markdown",
      "metadata": {
        "id": "2BTzNm5LQnap"
      },
      "source": [
        "해당 코드를 lk 클래스 안쪽에 넣어보도록 하겠습니다. "
      ]
    },
    {
      "cell_type": "code",
      "metadata": {
        "id": "YNG31y4ZQYm5"
      },
      "source": [
        "node_2 = lk.find_node_at(2)\n",
        "lk.insert_after(node_2, 1000)"
      ],
      "execution_count": 122,
      "outputs": []
    },
    {
      "cell_type": "code",
      "metadata": {
        "id": "am5dcSPHQd3J",
        "outputId": "c8917834-4cbc-4506-a217-15fda411cfdb",
        "colab": {
          "base_uri": "https://localhost:8080/"
        }
      },
      "source": [
        "lk.ord_desc()"
      ],
      "execution_count": 123,
      "outputs": [
        {
          "output_type": "stream",
          "text": [
            "0\n",
            "1\n",
            "2\n",
            "1000\n",
            "3\n",
            "4\n",
            "5\n",
            "6\n",
            "7\n",
            "8\n",
            "9\n"
          ],
          "name": "stdout"
        }
      ]
    },
    {
      "cell_type": "code",
      "metadata": {
        "id": "aJU7_b9Fa19f"
      },
      "source": [
        "# 특정 노드삭제 테스트\n",
        "lk.delete_node(5)"
      ],
      "execution_count": 125,
      "outputs": []
    },
    {
      "cell_type": "code",
      "metadata": {
        "id": "fAPvbQSls9pw",
        "outputId": "8db58960-2066-4497-eb00-f5b618c947d6",
        "colab": {
          "base_uri": "https://localhost:8080/"
        }
      },
      "source": [
        "lk.ord_desc()"
      ],
      "execution_count": 126,
      "outputs": [
        {
          "output_type": "stream",
          "text": [
            "0\n",
            "1\n",
            "2\n",
            "1000\n",
            "3\n",
            "4\n",
            "6\n",
            "7\n",
            "8\n",
            "9\n"
          ],
          "name": "stdout"
        }
      ]
    },
    {
      "cell_type": "code",
      "metadata": {
        "id": "9mCzHD9AtCXx"
      },
      "source": [
        ""
      ],
      "execution_count": null,
      "outputs": []
    }
  ]
}