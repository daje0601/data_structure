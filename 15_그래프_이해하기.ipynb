{
  "nbformat": 4,
  "nbformat_minor": 0,
  "metadata": {
    "colab": {
      "name": "15. 그래프 이해하기.ipynb",
      "provenance": [],
      "authorship_tag": "ABX9TyNaIKzJRHWYShKgKVTbOHBX",
      "include_colab_link": true
    },
    "kernelspec": {
      "name": "python3",
      "display_name": "Python 3"
    },
    "language_info": {
      "name": "python"
    }
  },
  "cells": [
    {
      "cell_type": "markdown",
      "metadata": {
        "id": "view-in-github",
        "colab_type": "text"
      },
      "source": [
        "<a href=\"https://colab.research.google.com/github/daje0601/data_structure/blob/master/15_%EA%B7%B8%EB%9E%98%ED%94%84_%EC%9D%B4%ED%95%B4%ED%95%98%EA%B8%B0.ipynb\" target=\"_parent\"><img src=\"https://colab.research.google.com/assets/colab-badge.svg\" alt=\"Open In Colab\"/></a>"
      ]
    },
    {
      "cell_type": "code",
      "metadata": {
        "id": "BhyUnC7m744r"
      },
      "source": [
        "# 그래프 노드 만들기 \n",
        "class StationNode:\n",
        "  \"\"\"지하철 역 노드를 나타내는 클래스\"\"\"\n",
        "  def __init__(self, name, num_exits):\n",
        "    self.name = name\n",
        "    self.num_exits = num_exits\n",
        "  \n",
        "# 지하철 역 노드 인스턴스 생성\n",
        "station_0 = StationNode(\"교대역\", 14)\n",
        "station_1 = StationNode(\"사당역\", 14)\n",
        "station_2 = StationNode(\"서울역\", 16)\n",
        "station_3 = StationNode(\"종로역\", 16)\n",
        "\n",
        "# 노드들을 파이썬 리스트에 저장 \n",
        "# stations = [station_0,station_1,station_2,station_3]\n",
        "\n",
        "# 지하철 역 노드들을 파이썬 딕셔너리(해시테이블)로 저장한다. \n",
        "stations = {\n",
        "    \"교대역\" : station_0,\n",
        "    \"사당역\" : station_1,\n",
        "    \"서울역\" : station_2,\n",
        "    \"종로역\" : station_3,\n",
        "} # key는 절대로 중복되는 정보가 들어올 수 있는 것으로는 사용할 수 없다. \n"
      ],
      "execution_count": 12,
      "outputs": []
    },
    {
      "cell_type": "code",
      "metadata": {
        "id": "fZvF_GnY8_xa"
      },
      "source": [
        "node_1 = stations[\"교대역\"]\n",
        "node_2 = stations[\"서울역\"]"
      ],
      "execution_count": 13,
      "outputs": []
    },
    {
      "cell_type": "code",
      "metadata": {
        "id": "c7B3lWqZ9dMc"
      },
      "source": [
        ""
      ],
      "execution_count": null,
      "outputs": []
    }
  ]
}