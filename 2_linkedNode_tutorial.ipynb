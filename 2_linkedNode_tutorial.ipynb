{
  "nbformat": 4,
  "nbformat_minor": 0,
  "metadata": {
    "colab": {
      "name": "2. linkedNode_tutorial.ipynb",
      "provenance": []
    },
    "kernelspec": {
      "name": "python3",
      "display_name": "Python 3"
    },
    "language_info": {
      "name": "python"
    }
  },
  "cells": [
    {
      "cell_type": "markdown",
      "metadata": {
        "id": "M1gZnlTkSlou"
      },
      "source": [
        "# 1. 링크드 노드 \n",
        "\n",
        "-. 해당 코드는 예제 코드이며, tutorial에 대한 상세한 설명은 아래 블로그를 참고해주세요. \n",
        "-. https://daje0601.tistory.com/212"
      ]
    },
    {
      "cell_type": "code",
      "metadata": {
        "id": "4p9gIVnT5pWD"
      },
      "source": [
        "class Node:\n",
        "  def __init__(self, data):\n",
        "    self.data = data # 노드의 저장공간에 들어갈 데이터 생성\n",
        "    self.next = None \n",
        "        # 처음 head 노드가 만들어줄때는 아직 어디로 연결을 해주어야할지 모르기 때문에\n",
        "        # 이를 None으로 설정하여 잠시 비워두도록 하겠습니다. \n",
        "        # 즉, 다음 노드에 대한 레퍼런스가 됩니다. \n",
        "        \n",
        "# 아래 숫자를 가지고 노드들을 생성해보겠습니다. \n",
        "# [9, 10, 11, 12, 13]\n",
        "head_node = Node(9) #첫번째 생성된 노드는 head_node라고 함 \n",
        "node_1 = Node(10)\n",
        "node_2 = Node(11)\n",
        "node_3 = Node(12)\n",
        "tail_node = Node(13) #마지막 생성된 노드는 tail_node라고 함 \n"
      ],
      "execution_count": 4,
      "outputs": []
    },
    {
      "cell_type": "code",
      "metadata": {
        "id": "oqzwHRPE51zs"
      },
      "source": [
        "head_node.next = node_1\n",
        "node_1.next = node_2\n",
        "node_2.next = node_3\n",
        "node_3.next = tail_node\n",
        "# tail_node는 마지막 노드이므로 다음 노드에 대한 정보는 None으로 비워두겠습니다. \n",
        "# None은 별도로 설정해주지 않아도 클래스에 있기 때문에 추가적인 코드를 적지 않는 것입니다. "
      ],
      "execution_count": 7,
      "outputs": []
    },
    {
      "cell_type": "code",
      "metadata": {
        "colab": {
          "base_uri": "https://localhost:8080/"
        },
        "id": "CYTnNSNo52Qn",
        "outputId": "9981154b-7b16-4fcb-d88b-e38768ca055f"
      },
      "source": [
        "iterator = head_node\n",
        "\n",
        "while iterator is not None:\n",
        "  print(iterator.data)\n",
        "  iterator = iterator.next"
      ],
      "execution_count": 8,
      "outputs": [
        {
          "output_type": "stream",
          "text": [
            "9\n",
            "10\n",
            "11\n",
            "12\n",
            "13\n"
          ],
          "name": "stdout"
        }
      ]
    },
    {
      "cell_type": "code",
      "metadata": {
        "id": "e1ZZdz2p6Oia"
      },
      "source": [
        "class LinkedList:\n",
        "\t# 링크드 리스트 클래스\n",
        "  def __init__(self):\n",
        "    self.head = None\n",
        "    self.tail = None\n",
        "\n",
        "  def find_node_at(self, index):\n",
        "    \"\"\"링크드 리스트 접근 연산 메소드\"\"\"\n",
        "    iterator = self.head\n",
        "\n",
        "    for _ in range(index):\n",
        "        iterator = iterator.next\n",
        "\n",
        "    return iterator \n",
        "\t# 링크드 리스트 추가 연산 메소드     \n",
        "  def append(self, data):\n",
        "    new_node = Node(data)\n",
        "        \n",
        "    # append를 할때 경우의 수는 2가지가 있다\n",
        "    # 1. head가 없을때\n",
        "    # -. head가 없을 때는 첫번째로 들어노는 노드가 head이면서 tail이 된다. \n",
        "    if self.head is None:\n",
        "      self.head = new_node\n",
        "      self.tail = new_node\n",
        "\n",
        "    else:    \n",
        "    # 2. head가 있을때 \n",
        "    # -. 이곳에는 2가지 일이 일어나야합니다. \n",
        "    # 2-1). tail_node에 new_node를 추가해야하고\n",
        "    \n",
        "      self.tail.next = new_node\n",
        "    # 2-2). 새롭게 들어온 new_node를 tail_node로 변경해야한다. \n",
        "      self.tail = new_node\n",
        "\n",
        "# 새로운 링크드 리스트 생성 \n",
        "lk = LinkedList()\n",
        "\n",
        "# 링크드 리스트에 데이터 추가 \n",
        "lk.append(2)\n",
        "lk.append(3)\n",
        "lk.append(4)\n",
        "lk.append(5)\n",
        "lk.append(7)\n",
        "lk.append(11)\n"
      ],
      "execution_count": 26,
      "outputs": []
    },
    {
      "cell_type": "code",
      "metadata": {
        "colab": {
          "base_uri": "https://localhost:8080/"
        },
        "id": "jCdoChhqAMs2",
        "outputId": "c5f5f135-e208-4f24-8473-150f44f41a4f"
      },
      "source": [
        "iterator = lk.head\n",
        "\n",
        "while iterator is not None:\n",
        "  print(iterator.data)\n",
        "  iterator = iterator.next"
      ],
      "execution_count": 23,
      "outputs": [
        {
          "output_type": "stream",
          "text": [
            "2\n",
            "3\n",
            "4\n",
            "5\n",
            "7\n",
            "11\n"
          ],
          "name": "stdout"
        }
      ]
    },
    {
      "cell_type": "code",
      "metadata": {
        "colab": {
          "base_uri": "https://localhost:8080/"
        },
        "id": "02T69nk_AcUw",
        "outputId": "108c415f-9963-4cdd-a683-cc97d7f1a4d4"
      },
      "source": [
        "print(lk.find_node_at(3).data)"
      ],
      "execution_count": 27,
      "outputs": [
        {
          "output_type": "stream",
          "text": [
            "5\n"
          ],
          "name": "stdout"
        }
      ]
    },
    {
      "cell_type": "code",
      "metadata": {
        "id": "2V8UhiVfPJ5K"
      },
      "source": [
        ""
      ],
      "execution_count": null,
      "outputs": []
    }
  ]
}